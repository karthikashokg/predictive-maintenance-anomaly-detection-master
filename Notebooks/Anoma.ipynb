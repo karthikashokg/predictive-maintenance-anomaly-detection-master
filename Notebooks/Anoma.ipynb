{
 "cells": [
  {
   "cell_type": "markdown",
   "id": "354c0896-22dd-4ddb-85e0-090196c12037",
   "metadata": {},
   "source": [
    "# Automated Anomaly Detection for Predictive Maintenance\n",
    "\n",
    "## Welcome to the Anomaly Detection Notebook!\n",
    "\n",
    "Greetings and welcome to this comprehensive notebook that walks you through the development, evaluation, and deployment of our cutting-edge Anomaly Detection model. This model is specifically designed for predictive maintenance.\n",
    "\n",
    "---\n",
    "\n",
    "## Overview\n",
    "\n",
    "In this notebook, we will explore the key components of our anomaly detection solution, starting from the initial exploratory data analysis (EDA) to the deployment of the trained model. The following sections provide a roadmap for your journey:\n",
    "\n",
    "1. *Exploratory Data Analysis (EDA):* Understand the dataset and gain insights into its structure and characteristics using pandas profiling.\n",
    "\n",
    "2. *Data Cleaning and Feature Engineering:* Prepare the dataset for model training by handling missing values, converting data types, and creating relevant features.\n",
    "\n",
    "3. *Train/Test Split:* Split the dataset into training, validation, and test sets to evaluate the model's performance.\n",
    "\n",
    "4. *Model Training:* Utilize the powerful XGBoost algorithm to train a robust anomaly detection model.\n",
    "\n",
    "5. *Hyperparameter Tuning:* Fine-tune the model's hyperparameters for optimal performance.\n",
    "\n",
    "6. *Bias Detection and Explainability:* Use SageMaker Clarify to identify biases and SHAP values for model explainability.\n",
    "\n",
    "7. *Model Deployment:* Deploy the trained model as a SageMaker endpoint for real-time predictions.\n",
    "\n",
    "8. *Performance Evaluation:* Evaluate the model's performance on unseen data and visualize results.\n",
    "\n",
    "9. *Continuous Improvement:* Discuss ongoing strategies for model monitoring and improvement.\n",
    "\n",
    "10. *End Note:* Summarize design choices, performance evaluation, and future directions.\n",
    "\n",
    "---\n",
    "\n",
    "Let's embark on this exciting journey of creating an advanced anomaly detection solution tailored for predictive maintenance!"
   ]
  },
  {
   "cell_type": "markdown",
   "id": "2f837993-9291-47e1-ac94-3d0150e21597",
   "metadata": {
    "tags": []
   },
   "source": [
    "<span style=\"font-family:Times New Roman\">Dependencies and Imports</span>"
   ]
  },
  {
   "cell_type": "code",
   "execution_count": null,
   "id": "f0c6e3d5-3675-4dc1-ad1f-5df187bb0e41",
   "metadata": {
    "tags": []
   },
   "outputs": [],
   "source": [
    "pip install --upgrade pandas"
   ]
  },
  {
   "cell_type": "code",
   "execution_count": null,
   "id": "363cddf6-3186-45f3-b4e9-8de69d240313",
   "metadata": {
    "tags": []
   },
   "outputs": [],
   "source": [
    "pip install --upgrade fsspec"
   ]
  },
  {
   "cell_type": "code",
   "execution_count": null,
   "id": "afc725e5-6c21-4b4c-b007-b3a42607c418",
   "metadata": {
    "tags": []
   },
   "outputs": [],
   "source": [
    "pip install --upgrade xgboost"
   ]
  },
  {
   "cell_type": "code",
   "execution_count": null,
   "id": "d3bf5dd2-12c4-4c89-9e98-d6142aa9b969",
   "metadata": {
    "tags": []
   },
   "outputs": [],
   "source": [
    "pip install -U sagemaker"
   ]
  },
  {
   "cell_type": "code",
   "execution_count": null,
   "id": "39617fd0-7346-4bc3-b399-766542b5e826",
   "metadata": {
    "tags": []
   },
   "outputs": [],
   "source": [
    "pip install tornado==6.4"
   ]
  },
  {
   "cell_type": "code",
   "execution_count": null,
   "id": "5cb6aa28-727b-4bcd-abb6-466cc97268b6",
   "metadata": {
    "tags": []
   },
   "outputs": [],
   "source": [
    "pip install --upgrade pandas-profiling==3.5.0"
   ]
  },
  {
   "cell_type": "code",
   "execution_count": null,
   "id": "74273a93-bb5a-4b74-97ef-9e8bf002a870",
   "metadata": {
    "tags": []
   },
   "outputs": [],
   "source": [
    "pip install --upgrade typing-extensions"
   ]
  },
  {
   "cell_type": "code",
   "execution_count": null,
   "id": "c29353fa-cf48-4694-b220-e5ac397253e9",
   "metadata": {
    "tags": []
   },
   "outputs": [],
   "source": [
    "pip install scikit-learn"
   ]
  },
  {
   "cell_type": "code",
   "execution_count": null,
   "id": "a9abc27a-7410-41b2-b95b-749c64178d5f",
   "metadata": {
    "tags": []
   },
   "outputs": [],
   "source": [
    "pip install pydantic"
   ]
  },
  {
   "cell_type": "code",
   "execution_count": null,
   "id": "270826cd-da6f-44b4-8e01-33d28d5509dd",
   "metadata": {
    "tags": []
   },
   "outputs": [],
   "source": [
    "pip install pydantic-settings"
   ]
  },
  {
   "cell_type": "code",
   "execution_count": null,
   "id": "b99d0c59-aa88-43e6-958e-5c387f4f0bcc",
   "metadata": {
    "tags": []
   },
   "outputs": [],
   "source": [
    "pip install matplotlib reportlab"
   ]
  },
  {
   "cell_type": "code",
   "execution_count": null,
   "id": "aa135b2b-3f44-4744-bb93-d0e3b677c690",
   "metadata": {
    "tags": []
   },
   "outputs": [],
   "source": [
    "import pandas as pd\n",
    "import boto3\n",
    "import sagemaker\n",
    "import json\n",
    "import joblib\n",
    "from sagemaker.xgboost.estimator import XGBoost\n",
    "from sagemaker.tuner import (\n",
    "    IntegerParameter,\n",
    "    ContinuousParameter,\n",
    "    HyperparameterTuner\n",
    ")\n",
    "from sagemaker.inputs import TrainingInput\n",
    "from sagemaker.image_uris import retrieve\n",
    "from sagemaker.serializers import CSVSerializer\n",
    "from sagemaker.deserializers import CSVDeserializer"
   ]
  },
  {
   "cell_type": "markdown",
   "id": "5476cbd9-d177-4329-9685-9011219924fb",
   "metadata": {},
   "source": [
    "**<span style=\"font-family:Times New Roman\">Exploratory Data Analysis (EDA) Script:</span>**\n",
    "\n",
    "This script performs Exploratory Data Analysis (EDA) on the dataset using the pandas_profiling library. Here's a breakdown of each part:\n",
    "\n",
    "**<span style=\"font-family:Times New Roman\">Load Dataset:</span>**\n",
    "\n",
    "Reads the dataset from the specified S3 path ('s3://bucket-anomadata1/Anoma_Prediction/dataset/AnomaData.csv') into a Pandas DataFrame (df).\n",
    "\n",
    "**<span style=\"font-family:Times New Roman\">Generate Profile Report:</span>**\n",
    "\n",
    "Utilizes the pandas_profiling library to create a comprehensive profile report (profile) of the dataset. This report includes statistics, visualizations, and insights to understand the data's characteristics.\n",
    "\n",
    "**<span style=\"font-family:Times New Roman\">Save Profile Report as HTML:</span>**\n",
    "\n",
    "Saves the generated profile report in HTML format. The resulting HTML file (profile_report.html) can be opened in a web browser for detailed exploration and analysis.\n",
    "This EDA script is valuable for gaining a holistic understanding of the dataset, identifying patterns, outliers, and potential issues, and informing subsequent steps in the data preprocessing and modeling pipeline."
   ]
  },
  {
   "cell_type": "code",
   "execution_count": null,
   "id": "d5012d8b-a758-4954-9a78-7c017c811b2b",
   "metadata": {
    "tags": []
   },
   "outputs": [],
   "source": [
    "# Exploratory Data Analysis\n",
    "from pandas_profiling import ProfileReport\n",
    "# load Dataset\n",
    "df=pd.read_csv('s3://bucket-anomadata1/Anoma_Prediction/dataset/AnomaData.csv')\n",
    "profile=ProfileReport(df)\n",
    "profile.to_file('profile_report.html')"
   ]
  },
  {
   "cell_type": "markdown",
   "id": "3996b785-e1d1-4608-8592-c16a9631be90",
   "metadata": {},
   "source": [
    "**<span style=\"font-family:Times New Roman\">Data Cleaning and Feature Engineering Script:</span>**\n",
    "\n",
    "This script focuses on data cleaning and feature engineering tasks to prepare the dataset for modeling. Here's a breakdown of each part:\n",
    "\n",
    "**<span style=\"font-family:Times New Roman\">Load Dataset:</span>**\n",
    "\n",
    "Reads the dataset from the specified S3 path ('s3://bucket-anomadata1/Anoma_Prediction/dataset/AnomaData.csv') into a Pandas DataFrame (df).\n",
    "\n",
    "**<span style=\"font-family:Times New Roman\">Convert \"time\" Column to Datetime:</span>**\n",
    "\n",
    "Converts the \"time\" column to datetime format using pd.to_datetime().\n",
    "Extract Unix Timestamp:\n",
    "\n",
    "Creates a new column \"timestamp\" by extracting the Unix timestamp from the \"time\" column. This timestamp is calculated by converting nanoseconds to seconds (// 10**9).\n",
    "\n",
    "**<span style=\"font-family:Times New Roman\">Drop Original \"time\" Column:</span>**\n",
    "\n",
    "Optionally drops the original \"time\" column if it's no longer needed for analysis.\n",
    "\n",
    "**<span style=\"font-family:Times New Roman\">Define Target Label in xgboost_train.py:</span>**\n",
    "\n",
    "Specifies that all columns, except the one named 'y', are considered features in the subsequent modeling process. The target label for the XGBoost model is typically defined in the training script (xgboost_train.py).\n",
    "This script is crucial for cleaning and transforming the data into a format suitable for machine learning, and it sets the stage for training predictive models."
   ]
  },
  {
   "cell_type": "code",
   "execution_count": null,
   "id": "c5c9faa5-de6e-4218-995f-acd3fd57443b",
   "metadata": {},
   "outputs": [],
   "source": [
    "# Data Cleaning and Featured engeneering\n",
    "from sklearn.model_selection import train_test_split\n",
    "\n",
    "# load Dataset\n",
    "df=pd.read_csv('s3://bucket-anomadata1/Anoma_Prediction/dataset/AnomaData.csv')\n",
    "\n",
    "# Convert the \"time\" column to datetime\n",
    "df['time'] = pd.to_datetime(df['time'])\n",
    "\n",
    "# Extract Unix timestamp from the datetime column\n",
    "df['timestamp'] = df['time'].astype(int) // 10**9  # Convert nanoseconds to seconds\n",
    "\n",
    "# Drop the original \"time\" column if needed\n",
    "df.drop(columns=['time'], inplace=True)\n"
   ]
  },
  {
   "cell_type": "markdown",
   "id": "efaef424-a3ab-4e25-9286-e8cfd4aa7369",
   "metadata": {},
   "source": [
    "**Train/Test Split and Data Upload Script:**\n",
    "\n",
    "This script performs the following tasks:\n",
    "\n",
    "**Train/Test Split:**\n",
    "\n",
    "Splits the original dataset (df) into training and testing sets using the train_test_split function from scikit-learn. The split ratio is 80% training and 20% testing. Additionally, a validation set is created by further splitting the training data with a 20% validation size.\n",
    "\n",
    "**Save Datasets to CSV Files:**\n",
    "\n",
    "Saves the training, testing, and validation datasets to CSV files (train.csv, test.csv, validation.csv) without including the index column.\n",
    "\n",
    "**Upload Datasets to S3:**\n",
    "\n",
    "Uses the Boto3 library to upload the CSV files to the specified S3 bucket (bucket-anomadata1) and key prefix (Anoma_Prediction/dataset). Each file is uploaded to its respective location in the S3 bucket.\n",
    "This script ensures that the data is split for training and testing purposes and makes it accessible in an S3 bucket for subsequent use in training machine learning models."
   ]
  },
  {
   "cell_type": "code",
   "execution_count": 18,
   "id": "93dc6fb0-1f34-4913-a18d-06299d244f26",
   "metadata": {},
   "outputs": [],
   "source": [
    "# Train/Test Split\n",
    "\n",
    "train_data, test_data = train_test_split(df, test_size=0.2, random_state=42)\n",
    "\n",
    "# Save the datasets to CSV files\n",
    "train_data.to_csv('train.csv', index=False)\n",
    "test_data.to_csv('test.csv', index=False)\n",
    "\n",
    "train_data, validation_data = train_test_split(train_data, test_size=0.2, random_state=42)\n",
    "\n",
    "# Save the datasets to CSV files\n",
    "train_data.to_csv('train.csv', index=False)\n",
    "validation_data.to_csv('validation.csv', index=False)\n",
    "\n",
    "\n",
    "import boto3\n",
    "\n",
    "s3 = boto3.client('s3')\n",
    "bucket_name = 'bucket-anomadata1'\n",
    "key_prefix = 'Anoma_Prediction/dataset'\n",
    "\n",
    "# Upload train dataset\n",
    "s3.upload_file('train.csv', 'bucket-anomadata1',  'Anoma_Prediction/dataset/train.csv')\n",
    "\n",
    "# Upload test dataset\n",
    "s3.upload_file('test.csv', 'bucket-anomadata1', 'Anoma_Prediction/dataset/test.csv')\n",
    "\n",
    "# Upload validation dataset\n",
    "s3.upload_file('validation.csv', 'bucket-anomadata1', 'Anoma_Prediction/dataset/validation.csv')"
   ]
  },
  {
   "cell_type": "markdown",
   "id": "195421da-bd32-4bd8-b924-7d00bfc73f8f",
   "metadata": {},
   "source": [
    "**<span style=\"font-family:Times New Roman\">Setting SageMaker Variables and S3 Locations Script:</span>**\n",
    "\n",
    "This script sets up the necessary SageMaker and S3 variables for managing the workflow. Here's what each section does:\n",
    "\n",
    "**<span style=\"font-family:Times New Roman\">SageMaker Variables:</span>**\n",
    "\n",
    "**sess:** Creates a SageMaker session.\n",
    "**write_bucket:** Retrieves the default SageMaker bucket for writing.\n",
    "**write_prefix:** Specifies a prefix for writing data to the bucket.\n",
    "**region:** Retrieves the AWS region using the SageMaker session.\n",
    "**s3_client:** Creates an S3 client for interacting with S3 services.\n",
    "**sagemaker_role:** Retrieves the SageMaker execution role.\n",
    "**sagemaker_client:** Creates a SageMaker client for additional interactions.\n",
    "\n",
    "**<span style=\"font-family:Times New Roman\">S3 Location for Read and Write Operations:</span>**\n",
    "\n",
    "Specifies the S3 keys for train, test, and validation datasets.\n",
    "Specifies the S3 keys for the model, output, and additional locations.\n",
    "Constructs S3 URIs for easy reference in subsequent operations.\n",
    "This script establishes the necessary connections and paths for reading and writing data during the machine learning workflow in SageMaker."
   ]
  },
  {
   "cell_type": "code",
   "execution_count": null,
   "id": "c4903255-ecdc-48f1-a0ee-276d3f7718e0",
   "metadata": {
    "tags": []
   },
   "outputs": [],
   "source": [
    "# Setting SageMaker variables\n",
    "sess = sagemaker.Session()\n",
    "write_bucket = sess.default_bucket()\n",
    "write_prefix = \"Anoma-detect\"\n",
    "\n",
    "region = sess.boto_region_name\n",
    "s3_client = boto3.client(\"s3\", region_name=region)\n",
    "\n",
    "sagemaker_role = sagemaker.get_execution_role()\n",
    "sagemaker_client = boto3.client(\"sagemaker\")\n",
    "read_bucket = \"bucket-anomadata1\"\n",
    "read_prefix = \"Anoma_Prediction/dataset\" \n",
    "\n",
    "\n",
    "# Setting S3 location for read and write operations\n",
    "train_data_key = f\"{read_prefix}/train.csv\"\n",
    "test_data_key = f\"{read_prefix}/test.csv\"\n",
    "validation_data_key = f\"{read_prefix}/validation.csv\"\n",
    "model_key = f\"{write_prefix}/model\"\n",
    "output_key = f\"{write_prefix}/output\"\n",
    "\n",
    "\n",
    "train_data_uri = f\"s3://{read_bucket}/{train_data_key}\"\n",
    "test_data_uri = f\"s3://{read_bucket}/{test_data_key}\"\n",
    "validation_data_uri = f\"s3://{read_bucket}/{validation_data_key}\"\n",
    "model_uri = f\"s3://{write_bucket}/{model_key}\"\n",
    "output_uri = f\"s3://{write_bucket}/{output_key}\"\n",
    "estimator_output_uri = f\"s3://{write_bucket}/{write_prefix}/training_jobs\"\n",
    "bias_report_output_uri = f\"s3://{write_bucket}/{write_prefix}/clarify-output/bias\"\n",
    "explainability_report_output_uri = f\"s3://{write_bucket}/{write_prefix}/clarify-output/explainability\""
   ]
  },
  {
   "cell_type": "markdown",
   "id": "582bff63-1340-4e3b-a759-f0c76f513bb3",
   "metadata": {},
   "source": [
    "**<span style=\"font-family:Times New Roman\">Machine Learning Workflow Configuration Script:</span>**\n",
    "\n",
    "This script defines the configuration parameters for various stages of the machine learning workflow, including training, tuning, and deployment. Here's an explanation of each variable:\n",
    "\n",
    "**<span style=\"font-family:Times New Roman\">Tuning and Training Job Prefixes:</span>**\n",
    "\n",
    "tuning_job_name_prefix: Prefix for the hyperparameter tuning job.\n",
    "training_job_name_prefix: Prefix for the training job.\n",
    "\n",
    "**<span style=\"font-family:Times New Roman\">Model and Endpoint Naming:</span>**\n",
    "\n",
    "**xgb_model_name:** Name for the XGBoost model.\n",
    "**endpoint_name_prefix:** Prefix for the deployed endpoint.\n",
    "**Instance Configuration:**\n",
    "\n",
    "**train_instance_count:** Number of instances for training.\n",
    "**train_instance_type:** Type of instance for training.\n",
    "**predictor_instance_count:** Number of instances for inference (prediction).\n",
    "**predictor_instance_type:** Type of instance for inference (prediction).\n",
    "**clarify_instance_count:** Number of instances for Amazon SageMaker Clarify jobs.\n",
    "**clarify_instance_type:** Type of instance for Amazon SageMaker Clarify jobs.\n",
    "These variables are essential for configuring and customizing the various steps in the machine learning workflow, ensuring consistency and clarity throughout the process. Adjustments to these parameters can be made based on specific requirements and resource considerations."
   ]
  },
  {
   "cell_type": "code",
   "execution_count": 21,
   "id": "799a354b-75b2-4da4-9995-5fb346195d5b",
   "metadata": {
    "tags": []
   },
   "outputs": [],
   "source": [
    "tuning_job_name_prefix = \"xgbtune\" \n",
    "training_job_name_prefix = \"xgbtrain\"\n",
    "\n",
    "xgb_model_name = \"anoma-detect-xgb-model\"\n",
    "endpoint_name_prefix = \"xgb-anoma-model-dev\"\n",
    "train_instance_count = 1\n",
    "train_instance_type = \"ml.m4.xlarge\"\n",
    "predictor_instance_count = 1\n",
    "predictor_instance_type = \"ml.m4.xlarge\"\n",
    "clarify_instance_count = 1\n",
    "clarify_instance_type = \"ml.m4.xlarge\""
   ]
  },
  {
   "cell_type": "markdown",
   "id": "c939cd2a-8783-460b-9e4a-4078f1d2f991",
   "metadata": {},
   "source": [
    "**<span style=\"font-family:Times New Roman\">SageMaker Estimator Script:</span>**\n",
    "\n",
    "This script configures and runs an Amazon SageMaker XGBoost estimator for training a machine learning model. Here's an explanation of the major components:\n",
    "\n",
    "**<span style=\"font-family:Times New Roman\">Static Hyperparameters:</span>**\n",
    "\n",
    "**static_hyperparams:** Dictionary containing hyperparameters that will not be tuned during the hyperparameter optimization process. In this case, it includes evaluation metric, objective, and the number of rounds.\n",
    "XGBoost Estimator Configuration:\n",
    "\n",
    "**<span style=\"font-family:Times New Roman\">XGBoost:</span>** Instantiates the XGBoost estimator with specific configurations, such as the entry point for training code (xgboost_train.py), output path for model artifacts, IAM role, instance count, instance type, framework version, and base job name.\n",
    "\n",
    "These are the scripts of xgboost_train.py\n",
    "```python\n",
    "import argparse\n",
    "import os\n",
    "import joblib\n",
    "import json\n",
    "import pandas as pd\n",
    "import xgboost as xgb\n",
    "from sklearn.metrics import roc_auc_score\n",
    "\n",
    "if __name__ == \"__main__\":\n",
    "    parser = argparse.ArgumentParser()\n",
    "\n",
    "    # Hyperparameters and algorithm parameters are described here\n",
    "    parser.add_argument(\"--num_round\", type=int, default=100)\n",
    "    parser.add_argument(\"--max_depth\", type=int, default=3)\n",
    "    parser.add_argument(\"--eta\", type=float, default=0.2)\n",
    "    parser.add_argument(\"--subsample\", type=float, default=0.9)\n",
    "    parser.add_argument(\"--colsample_bytree\", type=float, default=0.8)\n",
    "    parser.add_argument(\"--objective\", type=str, default=\"binary:logistic\")\n",
    "    parser.add_argument(\"--eval_metric\", type=str, default=\"auc\")\n",
    "    parser.add_argument(\"--nfold\", type=int, default=3)\n",
    "    parser.add_argument(\"--early_stopping_rounds\", type=int, default=3)\n",
    "    \n",
    "\n",
    "    # SageMaker specific arguments. Defaults are set in the environment variables\n",
    "    # Location of input training data\n",
    "    parser.add_argument(\"--train_data_dir\", type=str, default=os.environ.get(\"SM_CHANNEL_TRAIN\"))\n",
    "    # Location of input validation data\n",
    "    parser.add_argument(\"--validation_data_dir\", type=str, default=os.environ.get(\"SM_CHANNEL_VALIDATION\"))\n",
    "    # Location where trained model will be stored. Default set by SageMaker, /opt/ml/model\n",
    "    parser.add_argument(\"--model_dir\", type=str, default=os.environ.get(\"SM_MODEL_DIR\"))\n",
    "    # Location where model artifacts will be stored. Default set by SageMaker, /opt/ml/output/data\n",
    "    parser.add_argument(\"--output_data_dir\", type=str, default=os.environ.get(\"SM_OUTPUT_DATA_DIR\"))\n",
    "    \n",
    "    args = parser.parse_args()\n",
    "\n",
    "    data_train = pd.read_csv(f\"{args.train_data_dir}/train.csv\")\n",
    "    train = data_train.drop(\"y\", axis=1)\n",
    "    label_train = pd.DataFrame(data_train[\"y\"])\n",
    "    dtrain = xgb.DMatrix(train, label=label_train)\n",
    "    \n",
    "    \n",
    "    data_validation = pd.read_csv(f\"{args.validation_data_dir}/validation.csv\")\n",
    "    validation = data_validation.drop(\"y\", axis=1)\n",
    "    label_validation = pd.DataFrame(data_validation[\"y\"])\n",
    "    dvalidation = xgb.DMatrix(validation, label=label_validation)\n",
    "\n",
    "    params = {\"max_depth\": args.max_depth,\n",
    "              \"eta\": args.eta,\n",
    "              \"objective\": args.objective,\n",
    "              \"subsample\" : args.subsample,\n",
    "              \"colsample_bytree\":args.colsample_bytree\n",
    "             }\n",
    "    \n",
    "    num_boost_round = args.num_round\n",
    "    nfold = args.nfold\n",
    "    early_stopping_rounds = args.early_stopping_rounds\n",
    "    \n",
    "    cv_results = xgb.cv(\n",
    "        params=params,\n",
    "        dtrain=dtrain,\n",
    "        num_boost_round=num_boost_round,\n",
    "        nfold=nfold,\n",
    "        early_stopping_rounds=early_stopping_rounds,\n",
    "        metrics=[\"auc\"],\n",
    "        seed=42,\n",
    "    )\n",
    "    \n",
    "    model = xgb.train(params=params, dtrain=dtrain, num_boost_round=len(cv_results))\n",
    "    \n",
    "    train_pred = model.predict(dtrain)\n",
    "    validation_pred = model.predict(dvalidation)\n",
    "    \n",
    "    train_auc = roc_auc_score(label_train, train_pred)\n",
    "    validation_auc = roc_auc_score(label_validation, validation_pred)\n",
    "    \n",
    "    print(f\"[0]#011train-auc:{train_auc:.2f}\")\n",
    "    print(f\"[0]#011validation-auc:{validation_auc:.2f}\")\n",
    "\n",
    "    metrics_data = {\"hyperparameters\" : params,\n",
    "                    \"binary_classification_metrics\": {\"validation:auc\": {\"value\": validation_auc},\n",
    "                                                      \"train:auc\": {\"value\": train_auc}\n",
    "                                                     }\n",
    "                   }\n",
    "              \n",
    "    # Save the evaluation metrics to the location specified by output_data_dir\n",
    "    metrics_location = args.output_data_dir + \"/metrics.json\"\n",
    "    \n",
    "    # Save the model to the location specified by model_dir\n",
    "    model_location = args.model_dir + \"/xgboost-model\"\n",
    "\n",
    "    with open(metrics_location, \"w\") as f:\n",
    "        json.dump(metrics_data, f)\n",
    "\n",
    "    with open(model_location, \"wb\") as f:\n",
    "        joblib.dump(model, f)\n",
    "```\n",
    "\n",
    "**<span style=\"font-family:Times New Roman\">Input Channels Configuration:</span>**\n",
    "\n",
    "**<span style=\"font-family:Times New Roman\">s3_input_train and s3_input_validation:</span>** Specifies the input channels for training and validation data. These channels point to the S3 locations of the respective datasets.\n",
    "\n",
    "**<span style=\"font-family:Times New Roman\">Fit and Wait:</span>**\n",
    "\n",
    "**<span style=\"font-family:Times New Roman\">fit:</span>** Initiates the training job with the specified inputs and hyperparameters.\n",
    "\n",
    "**<span style=\"font-family:Times New Roman\">latest_training_job.wait():</span>** Waits for the training job to complete before proceeding to the next steps.\n",
    "This script ensures the proper configuration and execution of the SageMaker XGBoost estimator for training machine learning model. "
   ]
  },
  {
   "cell_type": "code",
   "execution_count": null,
   "id": "dc89ec4e-0b72-4000-b92b-8e2ada0fd481",
   "metadata": {
    "tags": []
   },
   "outputs": [],
   "source": [
    "# SageMaker estimator\n",
    "\n",
    "# Set static hyperparameters that will not be tuned\n",
    "static_hyperparams = {  \n",
    "                        \"eval_metric\" : \"auc\",\n",
    "                        \"objective\": \"binary:logistic\",\n",
    "                        \"num_round\": \"5\"\n",
    "                      }\n",
    "\n",
    "xgb_estimator = XGBoost(\n",
    "                        entry_point=\"xgboost_train.py\",\n",
    "                        output_path=estimator_output_uri,\n",
    "                        code_location=estimator_output_uri,\n",
    "                        hyperparameters=static_hyperparams,\n",
    "                        role=sagemaker_role,\n",
    "                        instance_count=train_instance_count,\n",
    "                        instance_type=train_instance_type,\n",
    "                        framework_version=\"1.3-1\",\n",
    "                        base_job_name=training_job_name_prefix\n",
    "                    )\n",
    "\n",
    "# Setting the input channels for training job\n",
    "s3_input_train = TrainingInput(s3_data=\"s3://{}/{}\".format(read_bucket, train_data_key), content_type=\"csv\", s3_data_type=\"S3Prefix\")\n",
    "s3_input_validation = (TrainingInput(s3_data=\"s3://{}/{}\".format(read_bucket, validation_data_key), \n",
    "                                    content_type=\"csv\", s3_data_type=\"S3Prefix\")\n",
    "                      )\n",
    "# Fit the estimator and wait for completion\n",
    "xgb_estimator.fit(inputs={\"train\": s3_input_train, \"validation\": s3_input_validation})\n",
    "xgb_estimator.latest_training_job.wait()"
   ]
  },
  {
   "cell_type": "markdown",
   "id": "d15058c5-af76-4756-99df-e15d0e2e525f",
   "metadata": {},
   "source": [
    "**<span style=\"font-family:Times New Roman\">Setting Hyperparameter Ranges Script:</span>**\n",
    "\n",
    "This script sets the ranges for the hyperparameters that you intend to tune during the hyperparameter optimization process. Here's an explanation of the hyperparameters and their respective ranges:\n",
    "\n",
    "**<span style=\"font-family:Times New Roman\">eta (Learning Rate):</span>**\n",
    "\n",
    "Type: ContinuousParameter\n",
    "Range: [0, 1]\n",
    "subsample (Subsample Ratio of the Training Instances):\n",
    "\n",
    "Type: ContinuousParameter\n",
    "Range: [0.7, 0.95]\n",
    "colsample_bytree (Subsample Ratio of Columns When Constructing Each Tree):\n",
    "\n",
    "Type: ContinuousParameter\n",
    "Range: [0.7, 0.95]\n",
    "max_depth (Maximum Depth of a Tree):\n",
    "\n",
    "Type: IntegerParameter\n",
    "Range: [1, 5]\n",
    "These hyperparameter ranges define the search space for the hyperparameter tuner. During hyperparameter tuning, the SageMaker automatic model tuning service will explore different combinations within these specified ranges to find the optimal set of hyperparameters for the XGBoost model. "
   ]
  },
  {
   "cell_type": "code",
   "execution_count": 24,
   "id": "51eb510a-290d-4b84-8826-b1a88fd29740",
   "metadata": {
    "tags": []
   },
   "outputs": [],
   "source": [
    "# Setting ranges of hyperparameters to be tuned\n",
    "hyperparameter_ranges = {\n",
    "    \"eta\": ContinuousParameter(0, 1),\n",
    "    \"subsample\": ContinuousParameter(0.7, 0.95),\n",
    "    \"colsample_bytree\": ContinuousParameter(0.7, 0.95),\n",
    "    \"max_depth\": IntegerParameter(1, 5)\n",
    "}"
   ]
  },
  {
   "cell_type": "markdown",
   "id": "0d5b3c42-9c97-463f-8cb5-5800fc3cec2a",
   "metadata": {},
   "source": [
    "**<span style=\"font-family:Times New Roman\">Setting Up Hyperparameter Tuner Script:</span>**\n",
    "\n",
    "This script sets up the hyperparameter tuner for the XGBoost model training. Here's an explanation of the components:\n",
    "\n",
    "**<span style=\"font-family:Times New Roman\">Objective_metric_name (Name of the Objective Metric):</span>**\n",
    "\n",
    "This is the metric that the hyperparameter tuning process will aim to optimize. In this case, it's set to \"validation:auc,\" indicating the area under the ROC curve (AUC) on the validation dataset.\n",
    "\n",
    "**<span style=\"font-family:Times New Roman\">Tuner_config_dict (Tuner Configuration Dictionary):</span>**\n",
    "\n",
    "This dictionary contains various parameters for configuring the hyperparameter tuner.\n",
    "estimator: The XGBoost estimator used for training.\n",
    "max_jobs: The maximum number of hyperparameter tuning jobs to run.\n",
    "max_parallel_jobs: The maximum number of parallel tuning jobs to run.\n",
    "objective_metric_name: The name of the metric to optimize.\n",
    "hyperparameter_ranges: The ranges of hyperparameters to search.\n",
    "base_tuning_job_name: Prefix for the names of the hyperparameter tuning jobs.\n",
    "strategy: The tuning strategy. In this case, \"Random\" is used.\n",
    "\n",
    "**<span style=\"font-family:Times New Roman\">Tuner (Hyperparameter Tuner Object):</span>**\n",
    "\n",
    "This object is created using the configuration dictionary.\n",
    "It will be used to orchestrate the hyperparameter tuning process for the XGBoost model. The tuner will explore different combinations of hyperparameters and evaluate their performance based on the specified objective metric. "
   ]
  },
  {
   "cell_type": "code",
   "execution_count": 25,
   "id": "a32a78f0-1c5d-4e41-9bff-237684966b5d",
   "metadata": {
    "tags": []
   },
   "outputs": [],
   "source": [
    "objective_metric_name = \"validation:auc\"\n",
    "\n",
    "# Setting up tuner object\n",
    "tuner_config_dict = {\n",
    "                     \"estimator\" : xgb_estimator,\n",
    "                     \"max_jobs\" : 5,\n",
    "                     \"max_parallel_jobs\" : 2,\n",
    "                     \"objective_metric_name\" : objective_metric_name,\n",
    "                     \"hyperparameter_ranges\" : hyperparameter_ranges,\n",
    "                     \"base_tuning_job_name\" : tuning_job_name_prefix,\n",
    "                     \"strategy\" : \"Random\"\n",
    "                    }\n",
    "tuner = HyperparameterTuner(**tuner_config_dict)\n",
    "\n"
   ]
  },
  {
   "cell_type": "markdown",
   "id": "5ceb4e47-2890-4572-a0b2-cf894e024892",
   "metadata": {},
   "source": [
    "**<span style=\"font-family:Times New Roman\">Setting Up Input Channels for Hyperparameter Tuning Job Script:</span>**\n",
    "\n",
    "This script sets up the input channels for the hyperparameter tuning job and fits the tuner with the specified input data. Here's an explanation of the components:\n",
    "\n",
    "**<span style=\"font-family:Times New Roman\">s3_input_train and s3_input_validation (Input Channels):</span>**\n",
    "\n",
    "These are objects of type TrainingInput that represent the training and validation datasets stored in Amazon S3.\n",
    "s3_data: The S3 location of the dataset.\n",
    "content_type: The MIME type of the dataset. Here, it's set to \"csv.\"\n",
    "s3_data_type: The S3 data type. In this case, it's set to \"S3Prefix.\"\n",
    "Fitting the Tuner with Input Channels:\n",
    "\n",
    "The fit method is called on the tuner object, specifying the input channels for training and validation.\n",
    "The include_cls_metadata=False parameter is set to exclude the class metadata during the fit process.\n",
    "\n",
    "**<span style=\"font-family:Times New Roman\">Waiting for the Tuning Job to Complete:</span>**\n",
    "\n",
    "The wait method is called on the tuner object to wait for the hyperparameter tuning job to complete before proceeding with further steps.\n"
   ]
  },
  {
   "cell_type": "code",
   "execution_count": null,
   "id": "7acc921f-0c1f-4de6-b39f-3a4f77685cea",
   "metadata": {
    "tags": []
   },
   "outputs": [],
   "source": [
    "# Setting the input channels for tuning job\n",
    "s3_input_train = TrainingInput(s3_data=\"s3://{}/{}\".format(read_bucket, train_data_key), content_type=\"csv\", s3_data_type=\"S3Prefix\")\n",
    "s3_input_validation = (TrainingInput(s3_data=\"s3://{}/{}\".format(read_bucket, validation_data_key), \n",
    "                                    content_type=\"csv\", s3_data_type=\"S3Prefix\")\n",
    "                      )\n",
    "\n",
    "tuner.fit(inputs={\"train\": s3_input_train, \"validation\": s3_input_validation}, include_cls_metadata=False)\n",
    "tuner.wait()"
   ]
  },
  {
   "cell_type": "markdown",
   "id": "57b2a23b-c3e7-4ad7-8e47-d6c524c635d5",
   "metadata": {},
   "source": [
    "**<span style=\"font-family:Times New Roman\">Summary of Hyperparameter Tuning Results:</span>**\n",
    "\n",
    "This script summarizes the results of the hyperparameter tuning job and displays them in a DataFrame. Here's an explanation of the components:\n",
    "\n",
    "**<span style=\"font-family:Times New Roman\">Sagemaker.HyperparameterTuningJobAnalytics:</span>**\n",
    "\n",
    "This class is used to retrieve and analyze the results of a hyperparameter tuning job.\n",
    "It takes the job name of the latest tuning job (tuner.latest_tuning_job.job_name) as an argument.\n",
    "Collecting Tuning Results:\n",
    "\n",
    "The dataframe method is called on the sagemaker.HyperparameterTuningJobAnalytics object to retrieve the tuning results as a DataFrame.\n",
    "\n",
    "**<span style=\"font-family:Times New Roman\">Filtering Out Rows with Infinite Objective Values:</span>**\n",
    "\n",
    "Rows with objective values set to negative infinity (-float('inf')) are filtered out from the DataFrame.\n",
    "Sorting Results in Descending Order:\n",
    "\n",
    "The DataFrame is sorted in descending order of the final objective values to highlight the best-performing configurations.\n",
    "\n",
    "**<span style=\"font-family:Times New Roman\">Displaying the Summary:</span>**\n",
    "\n",
    "The resulting DataFrame (df_tuner) is displayed, providing a summary of the hyperparameter tuning results."
   ]
  },
  {
   "cell_type": "code",
   "execution_count": 29,
   "id": "12a05050-7392-45f4-816f-2513dfac92e8",
   "metadata": {
    "tags": []
   },
   "outputs": [
    {
     "data": {
      "text/html": [
       "<div>\n",
       "<style scoped>\n",
       "    .dataframe tbody tr th:only-of-type {\n",
       "        vertical-align: middle;\n",
       "    }\n",
       "\n",
       "    .dataframe tbody tr th {\n",
       "        vertical-align: top;\n",
       "    }\n",
       "\n",
       "    .dataframe thead th {\n",
       "        text-align: right;\n",
       "    }\n",
       "</style>\n",
       "<table border=\"1\" class=\"dataframe\">\n",
       "  <thead>\n",
       "    <tr style=\"text-align: right;\">\n",
       "      <th></th>\n",
       "      <th>colsample_bytree</th>\n",
       "      <th>eta</th>\n",
       "      <th>max_depth</th>\n",
       "      <th>subsample</th>\n",
       "      <th>TrainingJobName</th>\n",
       "      <th>TrainingJobStatus</th>\n",
       "      <th>FinalObjectiveValue</th>\n",
       "      <th>TrainingStartTime</th>\n",
       "      <th>TrainingEndTime</th>\n",
       "      <th>TrainingElapsedTimeSeconds</th>\n",
       "    </tr>\n",
       "  </thead>\n",
       "  <tbody>\n",
       "    <tr>\n",
       "      <th>0</th>\n",
       "      <td>0.832849</td>\n",
       "      <td>0.186111</td>\n",
       "      <td>5.0</td>\n",
       "      <td>0.863135</td>\n",
       "      <td>xgbtune-240127-1846-005-e44b74a0</td>\n",
       "      <td>Completed</td>\n",
       "      <td>0.91</td>\n",
       "      <td>2024-01-27 18:51:27+00:00</td>\n",
       "      <td>2024-01-27 18:52:09+00:00</td>\n",
       "      <td>42.0</td>\n",
       "    </tr>\n",
       "    <tr>\n",
       "      <th>1</th>\n",
       "      <td>0.885604</td>\n",
       "      <td>0.400700</td>\n",
       "      <td>5.0</td>\n",
       "      <td>0.934018</td>\n",
       "      <td>xgbtune-240127-1846-004-677785ee</td>\n",
       "      <td>Completed</td>\n",
       "      <td>0.91</td>\n",
       "      <td>2024-01-27 18:50:31+00:00</td>\n",
       "      <td>2024-01-27 18:51:13+00:00</td>\n",
       "      <td>42.0</td>\n",
       "    </tr>\n",
       "    <tr>\n",
       "      <th>2</th>\n",
       "      <td>0.856620</td>\n",
       "      <td>0.351977</td>\n",
       "      <td>3.0</td>\n",
       "      <td>0.713086</td>\n",
       "      <td>xgbtune-240127-1846-003-ac3d6f75</td>\n",
       "      <td>Completed</td>\n",
       "      <td>0.91</td>\n",
       "      <td>2024-01-27 18:50:29+00:00</td>\n",
       "      <td>2024-01-27 18:51:11+00:00</td>\n",
       "      <td>42.0</td>\n",
       "    </tr>\n",
       "    <tr>\n",
       "      <th>3</th>\n",
       "      <td>0.786489</td>\n",
       "      <td>0.612013</td>\n",
       "      <td>4.0</td>\n",
       "      <td>0.932546</td>\n",
       "      <td>xgbtune-240127-1846-002-0f1b4395</td>\n",
       "      <td>Completed</td>\n",
       "      <td>0.91</td>\n",
       "      <td>2024-01-27 18:47:57+00:00</td>\n",
       "      <td>2024-01-27 18:49:49+00:00</td>\n",
       "      <td>112.0</td>\n",
       "    </tr>\n",
       "    <tr>\n",
       "      <th>4</th>\n",
       "      <td>0.741174</td>\n",
       "      <td>0.886437</td>\n",
       "      <td>5.0</td>\n",
       "      <td>0.918769</td>\n",
       "      <td>xgbtune-240127-1846-001-967a4e31</td>\n",
       "      <td>Completed</td>\n",
       "      <td>0.90</td>\n",
       "      <td>2024-01-27 18:48:01+00:00</td>\n",
       "      <td>2024-01-27 18:49:53+00:00</td>\n",
       "      <td>112.0</td>\n",
       "    </tr>\n",
       "  </tbody>\n",
       "</table>\n",
       "</div>"
      ],
      "text/plain": [
       "   colsample_bytree       eta  max_depth  subsample  \\\n",
       "0          0.832849  0.186111        5.0   0.863135   \n",
       "1          0.885604  0.400700        5.0   0.934018   \n",
       "2          0.856620  0.351977        3.0   0.713086   \n",
       "3          0.786489  0.612013        4.0   0.932546   \n",
       "4          0.741174  0.886437        5.0   0.918769   \n",
       "\n",
       "                    TrainingJobName TrainingJobStatus  FinalObjectiveValue  \\\n",
       "0  xgbtune-240127-1846-005-e44b74a0         Completed                 0.91   \n",
       "1  xgbtune-240127-1846-004-677785ee         Completed                 0.91   \n",
       "2  xgbtune-240127-1846-003-ac3d6f75         Completed                 0.91   \n",
       "3  xgbtune-240127-1846-002-0f1b4395         Completed                 0.91   \n",
       "4  xgbtune-240127-1846-001-967a4e31         Completed                 0.90   \n",
       "\n",
       "          TrainingStartTime           TrainingEndTime  \\\n",
       "0 2024-01-27 18:51:27+00:00 2024-01-27 18:52:09+00:00   \n",
       "1 2024-01-27 18:50:31+00:00 2024-01-27 18:51:13+00:00   \n",
       "2 2024-01-27 18:50:29+00:00 2024-01-27 18:51:11+00:00   \n",
       "3 2024-01-27 18:47:57+00:00 2024-01-27 18:49:49+00:00   \n",
       "4 2024-01-27 18:48:01+00:00 2024-01-27 18:49:53+00:00   \n",
       "\n",
       "   TrainingElapsedTimeSeconds  \n",
       "0                        42.0  \n",
       "1                        42.0  \n",
       "2                        42.0  \n",
       "3                       112.0  \n",
       "4                       112.0  "
      ]
     },
     "execution_count": 29,
     "metadata": {},
     "output_type": "execute_result"
    }
   ],
   "source": [
    "# Summary of tuning results ordered in descending order of performance\n",
    "df_tuner = sagemaker.HyperparameterTuningJobAnalytics(tuner.latest_tuning_job.job_name).dataframe()\n",
    "df_tuner = df_tuner[df_tuner[\"FinalObjectiveValue\"]>-float('inf')].sort_values(\"FinalObjectiveValue\", ascending=False)\n",
    "df_tuner"
   ]
  },
  {
   "cell_type": "markdown",
   "id": "fdf218cd-0972-4671-a174-0c2409b6ba14",
   "metadata": {},
   "source": [
    "**<span style=\"font-family:Times New Roman\">Creating or Checking Existence of the Best Model from Hyperparameter Tuning:</span>**\n",
    "\n",
    "This script checks if a model with the specified name (xgb_model_name) already exists. If it doesn't exist, it creates a new model using the information from the best training job of the hyperparameter tuning job. Here's a breakdown of the script:\n",
    "\n",
    "**<span style=\"font-family:Times New Roman\">Getting Tuning Job Information:</span>**\n",
    "\n",
    "The describe_hyper_parameter_tuning_job method is used to obtain information about the hyperparameter tuning job.\n",
    "\n",
    "**<span style=\"font-family:Times New Roman\">Checking Model Existence:</span>**\n",
    "\n",
    "The list_models method is used to check if models with the specified name (xgb_model_name) exist.\n",
    "\n",
    "**<span style=\"font-family:Times New Roman\">Creating or Using the Best Model</span>:**\n",
    "\n",
    "If no models with the specified name are found (not model_matches), a new model is created using the create_model_from_job method.\n",
    "The best training job from the hyperparameter tuning job is used to create the model.\n",
    "The image_uri for the model is extracted from the training job definition.\n",
    "\n",
    "**<span style=\"font-family:Times New Roman\">Model Already Exists:</span>**\n",
    "\n",
    "If a model with the specified name already exists, a message is printed indicating that the model already exists."
   ]
  },
  {
   "cell_type": "code",
   "execution_count": 30,
   "id": "d044b8b5-0be7-4595-88f9-7651bdd1b6fe",
   "metadata": {
    "tags": []
   },
   "outputs": [
    {
     "name": "stderr",
     "output_type": "stream",
     "text": [
      "INFO:sagemaker:Creating model with name: anoma-detect-xgb-model\n"
     ]
    }
   ],
   "source": [
    "tuner_job_info = sagemaker_client.describe_hyper_parameter_tuning_job(HyperParameterTuningJobName=tuner.latest_tuning_job.job_name)\n",
    "\n",
    "model_matches = sagemaker_client.list_models(NameContains=xgb_model_name)[\"Models\"]\n",
    "\n",
    "if not model_matches:\n",
    "    _ = sess.create_model_from_job(\n",
    "            name=xgb_model_name,\n",
    "            training_job_name=tuner_job_info['BestTrainingJob'][\"TrainingJobName\"],\n",
    "            role=sagemaker_role,\n",
    "            image_uri=tuner_job_info['TrainingJobDefinition'][\"AlgorithmSpecification\"][\"TrainingImage\"]\n",
    "            )\n",
    "else:\n",
    "\n",
    "    print(f\"Model {xgb_model_name} already exists.\")"
   ]
  },
  {
   "cell_type": "markdown",
   "id": "07390ebf-e87f-4fe1-89f0-e54b471a6449",
   "metadata": {},
   "source": [
    "**<span style=\"font-family:Times New Roman\">Setting up SageMaker Clarify Processor for Bias Analysis:</span>**\n",
    "\n",
    "This script sets up the SageMaker Clarify Processor for performing bias analysis on the model. Here's an explanation of the key components:\n",
    "\n",
    "**<span style=\"font-family:Times New Roman\">Loading Training Data:</span>**\n",
    "\n",
    "Load the training data from the specified S3 URI (train_data_uri).\n",
    "\n",
    "**<span style=\"font-family:Times New Roman\">Creating SageMaker Clarify Processor:</span>**\n",
    "\n",
    "Instantiate a SageMakerClarifyProcessor object with the necessary parameters, such as the IAM role (sagemaker_role), instance count, instance type, and the SageMaker session.\n",
    "\n",
    "**<span style=\"font-family:Times New Roman\">Data Configuration:</span>**\n",
    "\n",
    "Create a DataConfig object specifying the input and output paths, label column (\"y\" in this case), column headers, and dataset type.\n",
    "\n",
    "**<span style=\"font-family:Times New Roman\">Model Configuration:</span>**\n",
    "\n",
    "Create a ModelConfig object with details about the model, such as the model name, instance type, and accept type.\n",
    "\n",
    "**<span style=\"font-family:Times New Roman\">Model Predictions Configuration:</span>**\n",
    "\n",
    "Create a ModelPredictedLabelConfig object to specify the threshold for converting model probabilities into binary labels. In this case, a probability threshold of 0.5 is used.\n",
    "\n",
    "**<span style=\"font-family:Times New Roman\">Bias Configuration:</span>**\n",
    "\n",
    "Create a BiasConfig object to define the parameters for the bias analysis. Here, it specifies that the bias analysis should be performed on the column named \"timestamp\" for the facet named \"timestamp\" when the label is 0."
   ]
  },
  {
   "cell_type": "code",
   "execution_count": null,
   "id": "a5b4d1f2-b7e8-4565-acc5-233577fafec5",
   "metadata": {
    "tags": []
   },
   "outputs": [],
   "source": [
    "# Loading Training Data\n",
    "train_df = pd.read_csv(train_data_uri)\n",
    "train_df_cols = train_df.columns.to_list()\n",
    "\n",
    "# Creating SageMaker Clarify Processor\n",
    "clarify_processor = sagemaker.clarify.SageMakerClarifyProcessor(\n",
    "    role=sagemaker_role,\n",
    "    instance_count=clarify_instance_count,\n",
    "    instance_type=clarify_instance_type,\n",
    "    sagemaker_session=sess,\n",
    ")\n",
    "\n",
    "# Data config\n",
    "bias_data_config = sagemaker.clarify.DataConfig(\n",
    "    s3_data_input_path=train_data_uri,\n",
    "    s3_output_path=bias_report_output_uri,\n",
    "    label=\"y\",\n",
    "    headers=train_df_cols,\n",
    "    dataset_type=\"text/csv\",\n",
    ")\n",
    "\n",
    "# Model config\n",
    "model_config = sagemaker.clarify.ModelConfig(\n",
    "    model_name=xgb_model_name,\n",
    "    instance_type=train_instance_type,\n",
    "    instance_count=1,\n",
    "    accept_type=\"text/csv\",\n",
    ")\n",
    "\n",
    "# Model predictions config to get binary labels from probabilities\n",
    "predictions_config = sagemaker.clarify.ModelPredictedLabelConfig(probability_threshold=0.5)\n",
    "\n",
    "# Bias config\n",
    "bias_config = sagemaker.clarify.BiasConfig(\n",
    "    label_values_or_threshold=[0],\n",
    "    facet_name=\"timestamp\",\n",
    "    facet_values_or_threshold=[1],\n",
    ")"
   ]
  },
  {
   "cell_type": "markdown",
   "id": "9922fa39-1d77-4231-b188-092cd4b5f68b",
   "metadata": {},
   "source": [
    "**<span style=\"font-family:Times New Roman\">Running Bias Analysis with SageMaker Clarify:</span>**\n",
    "\n",
    "This script initiates the bias analysis job using SageMaker Clarify Processor. Here's a breakdown of the key components:\n",
    "\n",
    "**<span style=\"font-family:Times New Roman\">Run Bias Analysis Job:</span>**\n",
    "\n",
    "Call the run_bias method on the clarify_processor object, providing the necessary configurations:\n",
    "data_config: The data configuration specifying input and output paths, label column, headers, and dataset type.\n",
    "bias_config: The bias configuration specifying parameters for the bias analysis.\n",
    "model_config: The model configuration with details about the model.\n",
    "model_predicted_label_config: Configuration for converting model probabilities into binary labels.\n",
    "pre_training_methods: List of pre-training bias mitigation methods. Here, \"CI\" (Confidence Interval) is used.\n",
    "post_training_methods: List of post-training bias mitigation methods. Here, \"DPPL\" (Disparate Impact Remover) is used.\n",
    "\n",
    "**<span style=\"font-family:Times New Roman\">Retrieve Job Name:</span>Retrieve Job Name:**\n",
    "\n",
    "Obtain the name of the latest Clarify job using clarify_processor.latest_job.name. This job name can be used to check the status or retrieve the results of the job. The pre_training_methods and post_training_methods parameters define the bias mitigation techniques applied during analysis. "
   ]
  },
  {
   "cell_type": "code",
   "execution_count": null,
   "id": "36db696d-bc08-4814-a0a2-44cdb0f595ed",
   "metadata": {
    "tags": []
   },
   "outputs": [],
   "source": [
    "# Run Bias Analysis Job\n",
    "clarify_processor.run_bias(\n",
    "    data_config=bias_data_config,\n",
    "    bias_config=bias_config,\n",
    "    model_config=model_config,\n",
    "    model_predicted_label_config=predictions_config,\n",
    "    pre_training_methods=[\"CI\"],\n",
    "    post_training_methods=[\"DPPL\"]\n",
    "    )\n",
    "\n",
    "# Retrieve Job Name\n",
    "clarify_bias_job_name = clarify_processor.latest_job.name"
   ]
  },
  {
   "cell_type": "markdown",
   "id": "55e8edce-1a37-462e-9718-d2058f15e150",
   "metadata": {},
   "source": [
    "**<span style=\"font-family:Times New Roman\">Copying and Viewing Bias Report Locally:</span>**\n",
    "\n",
    "This script uses the AWS CLI (aws s3 cp) to copy the bias report PDF file generated by SageMaker Clarify from the S3 bucket to the local directory. This allows us to view the bias report locally on the machine. Before executing the codes we make sure that path exists \n"
   ]
  },
  {
   "cell_type": "code",
   "execution_count": null,
   "id": "f58b9b04-bc80-44b4-aea7-f21319387b99",
   "metadata": {
    "tags": []
   },
   "outputs": [],
   "source": [
    "# Copy bias report and view locally\n",
    "!aws s3 cp s3://{write_bucket}/{write_prefix}/clarify-output/bias/report.pdf ./clarify_bias_output.pdf"
   ]
  },
  {
   "cell_type": "markdown",
   "id": "d00a0ffc-4990-48e9-bcff-f65015729d7d",
   "metadata": {},
   "source": [
    "**<span style=\"font-family:Times New Roman\">Running Explainability Analysis with SHAP:</span>**\n",
    "\n",
    "This script sets up the configuration for running explainability analysis with SHAP (SHapley Additive exPlanations) using SageMaker Clarify. It uses the mean of the training dataset as the baseline data point and specifies other SHAP-related configurations.\n",
    "\n",
    "After running this script, we can access the SHAP values and other explainability outputs in the specified S3 output path.\n"
   ]
  },
  {
   "cell_type": "code",
   "execution_count": null,
   "id": "cefa8e97-1b30-4ce8-b130-2af7ae5a6bbf",
   "metadata": {
    "tags": []
   },
   "outputs": [],
   "source": [
    "explainability_data_config = sagemaker.clarify.DataConfig(\n",
    "    s3_data_input_path=train_data_uri,\n",
    "    s3_output_path=explainability_report_output_uri,\n",
    "    label=\"y\",\n",
    "    headers=train_df_cols,\n",
    "    dataset_type=\"text/csv\",\n",
    ")\n",
    "\n",
    "# Use mean of train dataset as baseline data point\n",
    "shap_baseline = [list(train_df.drop([\"y\"], axis=1).mean())]\n",
    "\n",
    "shap_config = sagemaker.clarify.SHAPConfig(\n",
    "    baseline=shap_baseline,\n",
    "    num_samples=500,\n",
    "    agg_method=\"mean_abs\",\n",
    "    save_local_shap_values=True,\n",
    ")\n",
    "\n",
    "clarify_processor.run_explainability(\n",
    "    data_config=explainability_data_config,\n",
    "    model_config=model_config,\n",
    "    explainability_config=shap_config\n",
    ")"
   ]
  },
  {
   "cell_type": "markdown",
   "id": "b10e08e3-563f-4d39-a723-9ceccaed13ed",
   "metadata": {},
   "source": [
    "**<span style=\"font-family:Times New Roman\">Copying and Viewing Explainability Report Locally:</span>**\n",
    "\n",
    "This command copies the explainability report generated by SageMaker Clarify from the specified S3 path to the local directory. After executing this command, we can open and view the clarify_explainability_output.pdf file locally to explore the explainability insights provided by the SHAP analysis. Before executing the codes we make sure that path exists."
   ]
  },
  {
   "cell_type": "code",
   "execution_count": null,
   "id": "04cc1eaf-0aa0-4bcb-bdc5-bf8d480e2333",
   "metadata": {
    "tags": []
   },
   "outputs": [],
   "source": [
    "# Copy explainability report and view\n",
    "!aws s3 cp s3://{write_bucket}/{write_prefix}/clarify-output/explainability/report.pdf ./clarify_explainability_output.pdf\n",
    "\n"
   ]
  },
  {
   "cell_type": "markdown",
   "id": "ab049e21-6458-4af2-a7c3-5391a541d5a0",
   "metadata": {},
   "source": [
    "**<span style=\"font-family:Times New Roman\">Visualizing Local Explanations using Matplotlib:</span>**\n",
    "\n",
    "This script uses Matplotlib to visualize the local explanations generated by SHAP analysis for a specific example (row) in the dataset. The bar plot illustrates the impact of different features on the model's prediction for the selected example. "
   ]
  },
  {
   "cell_type": "code",
   "execution_count": null,
   "id": "fab63c7b-c3ff-4dd2-b6f6-95f384655f7d",
   "metadata": {
    "tags": []
   },
   "outputs": [],
   "source": [
    "import matplotlib.pyplot as plt\n",
    "import matplotlib\n",
    "%matplotlib inline\n",
    "local_explanations_out = pd.read_csv(explainability_report_output_uri + \"/explanations_shap/out.csv\")\n",
    "feature_names = [str.replace(c, \"_label0\", \"\") for c in \n",
    "local_explanations_out.columns.to_series()]\n",
    "local_explanations_out.columns = feature_names\n",
    "\n",
    "selected_example = 100\n",
    "print(\"Example number:\", selected_example)\n",
    "\n",
    "local_explanations_out.iloc[selected_example].plot(\n",
    "    kind=\"bar\", title=\"Local explanation for the example number \" + str(selected_example), rot=60, figsize=(20, 8)\n",
    ");"
   ]
  },
  {
   "cell_type": "markdown",
   "id": "1e3b497f-357e-4581-92f3-3d7f84406768",
   "metadata": {},
   "source": [
    "**Model Deployment**"
   ]
  },
  {
   "cell_type": "markdown",
   "id": "ddcd916a-656d-4acc-ad95-21529bfee725",
   "metadata": {},
   "source": [
    "This script deploys the best model obtained from the hyperparameter tuning job to a SageMaker endpoint. It uses the trained model's S3 path, training image, and other configuration parameters to create a SageMaker model. The model is then deployed to an endpoint, and a SageMaker Predictor is obtained for making predictions. "
   ]
  },
  {
   "cell_type": "code",
   "execution_count": null,
   "id": "ce9a6733-acec-4c3a-8e47-689dfd49a8d0",
   "metadata": {
    "tags": []
   },
   "outputs": [],
   "source": [
    "best_train_job_name = tuner.best_training_job()\n",
    "\n",
    "model_path = estimator_output_uri + '/' + best_train_job_name + '/output/model.tar.gz'\n",
    "training_image = retrieve(framework=\"xgboost\", region=region, version=\"1.3-1\")\n",
    "create_model_config = {\"model_data\":model_path,\n",
    "                       \"role\":sagemaker_role,\n",
    "                       \"image_uri\":training_image,\n",
    "                       \"name\":endpoint_name_prefix,\n",
    "                       \"predictor_cls\":sagemaker.predictor.Predictor\n",
    "                       }\n",
    "# Create a SageMaker model\n",
    "model = sagemaker.model.Model(**create_model_config)\n",
    "\n",
    "# Deploy the best model and get access to a SageMaker Predictor\n",
    "predictor = model.deploy(initial_instance_count=predictor_instance_count, \n",
    "                         instance_type=predictor_instance_type,\n",
    "                         serializer=CSVSerializer(),\n",
    "                         deserializer=CSVDeserializer())\n",
    "print(f\"\\nModel deployed at endpoint : {model.endpoint_name}\")"
   ]
  },
  {
   "cell_type": "markdown",
   "id": "4050a6c5-6d14-4e87-9195-d7d2c930b656",
   "metadata": {},
   "source": [
    "This script loads sample test data from the test dataset stored in S3, extracts features for a single data point, and then uses the deployed SageMaker endpoint to make a prediction. The predicted score and true label are then printed for comparison.\n",
    "\n",
    "*Sample CSV Data Format for Inference:*\n",
    "\n",
    "| x1   | x2   | x3   | ... | x60  | y.1  | timestamp       |\n",
    "|------|------|------|-----|------|------|-----------------|\n",
    "| val1 | val2 | val3 | ... | val60| val_y | 927197520       |\n",
    "| val1 | val2 | val3 | ... | val60| val_y | 927197520       |\n",
    "| ...  | ...  | ...  | ... | ...  | ...  | ...             |"
   ]
  },
  {
   "cell_type": "code",
   "execution_count": 40,
   "id": "4133c30e-8abc-46ed-b0e5-7aefdb3fe730",
   "metadata": {
    "tags": []
   },
   "outputs": [
    {
     "name": "stdout",
     "output_type": "stream",
     "text": [
      "Model predicted score : 0.189, True label : 0\n"
     ]
    }
   ],
   "source": [
    "# Sample test data\n",
    "test_df = pd.read_csv(test_data_uri)\n",
    "payload = test_df.drop([\"y\"], axis=1).iloc[0].to_list()\n",
    "print(f\"Model predicted score : {float(predictor.predict(payload)[0][0]):.3f}, True label : {test_df['y'].iloc[0]}\")"
   ]
  },
  {
   "cell_type": "markdown",
   "id": "db6f7a0d-e111-4545-9cc6-cd44e53297eb",
   "metadata": {},
   "source": [
    "**<span style=\"font-family:Times New Roman\">Now creating a Predictor instance using the endpoint name of the deployed model</span>**"
   ]
  },
  {
   "cell_type": "code",
   "execution_count": null,
   "id": "e83ae183-aba3-4c3b-9934-7fd333059fa3",
   "metadata": {
    "tags": []
   },
   "outputs": [],
   "source": [
    "import sagemaker\n",
    "from sagemaker.predictor import Predictor\n",
    "from sagemaker.serializers import CSVSerializer\n",
    "from sagemaker.deserializers import CSVDeserializer\n",
    "\n",
    "# Specify the endpoint name\n",
    "endpoint_name = \"endpoint-name\"  # Replace with the actual endpoint name\n",
    "\n",
    "# Initialize a predictor\n",
    "predictor = Predictor(endpoint_name=endpoint_name, \n",
    "                      sagemaker_session=sagemaker.Session(),\n",
    "                      serializer=CSVSerializer(),\n",
    "                      deserializer=CSVDeserializer())"
   ]
  },
  {
   "cell_type": "markdown",
   "id": "6eab1a41-b36c-4e0b-8123-15a639dde427",
   "metadata": {},
   "source": [
    "**<span style=\"font-family:Times New Roman\">Cross Evaluation and Deeper Insights</span>**"
   ]
  },
  {
   "cell_type": "code",
   "execution_count": 10,
   "id": "783674c4-abb2-46ef-a4db-145c15e02dd0",
   "metadata": {},
   "outputs": [
    {
     "name": "stdout",
     "output_type": "stream",
     "text": [
      "Example 1 - Predicted score: 0.189, True label: 0\n",
      "Example 2 - Predicted score: 0.189, True label: 0\n",
      "Example 3 - Predicted score: 0.189, True label: 0\n",
      "Example 4 - Predicted score: 0.189, True label: 0\n",
      "Example 5 - Predicted score: 0.189, True label: 0\n"
     ]
    },
    {
     "data": {
      "image/png": "[encoded data removed]",
      "text/plain": [
       "<Figure size 1200x600 with 1 Axes>"
      ]
     },
     "metadata": {},
     "output_type": "display_data"
    }
   ],
   "source": [
    "import matplotlib.pyplot as plt\n",
    "import numpy as np\n",
    "import pandas as pd\n",
    "\n",
    "# Sample test data\n",
    "validation_data_uri='s3://bucket-anomadata1/Anoma_Prediction/dataset/validation.csv'\n",
    "validation_df = pd.read_csv(validation_data_uri)\n",
    "\n",
    "# Extract features for all data points\n",
    "payload = validation_df.drop([\"y\"], axis=1).values.tolist()\n",
    "\n",
    "# Make predictions using the deployed SageMaker endpoint\n",
    "prediction_scores = [float(score[0]) for score in predictor.predict(payload)]\n",
    "true_labels = validation_df['y'].values\n",
    "\n",
    "# Display the predicted scores and true labels for the first few examples\n",
    "for i in range(5):\n",
    "    print(f\"Example {i + 1} - Predicted score: {prediction_scores[i]:.3f}, True label: {true_labels[i]}\")\n",
    "\n",
    "# Plot actual vs predicted scores\n",
    "plt.figure(figsize=(12, 6))\n",
    "plt.plot(np.arange(len(validation_df)), true_labels, label=\"True Label\", marker='o')\n",
    "plt.plot(np.arange(len(validation_df)), prediction_scores, label=\"Predicted Score\", marker='x')\n",
    "plt.title(\"Actual vs Predicted Scores for Validation Data\")\n",
    "plt.xlabel(\"Example\")\n",
    "plt.ylabel(\"Scores\")\n",
    "plt.legend()\n",
    "plt.show()"
   ]
  },
  {
   "cell_type": "code",
   "execution_count": 11,
   "id": "4c33bad7-5781-473b-b0b7-bcde6401b131",
   "metadata": {},
   "outputs": [
    {
     "name": "stdout",
     "output_type": "stream",
     "text": [
      "Accuracy: 0.9959\n",
      "ROC-AUC: 0.9064\n"
     ]
    },
    {
     "data": {
      "image/png": "[encoded data removed]",
      "text/plain": [
       "<Figure size 800x800 with 1 Axes>"
      ]
     },
     "metadata": {},
     "output_type": "display_data"
    },
    {
     "name": "stdout",
     "output_type": "stream",
     "text": [
      "Classification Report:\n",
      "              precision    recall  f1-score   support\n",
      "\n",
      "           0       1.00      1.00      1.00      2927\n",
      "           1       0.73      0.47      0.57        17\n",
      "\n",
      "    accuracy                           1.00      2944\n",
      "   macro avg       0.86      0.73      0.78      2944\n",
      "weighted avg       1.00      1.00      1.00      2944\n",
      "\n"
     ]
    }
   ],
   "source": [
    "# Sample test data\n",
    "validation_data_uri='s3://bucket-anomadata1/Anoma_Prediction/dataset/validation.csv'\n",
    "validation_df = pd.read_csv(validation_data_uri)\n",
    "\n",
    "X_validation = validation_df.drop(\"y\", axis=1)\n",
    "y_validation = validation_df[\"y\"]\n",
    "\n",
    "\n",
    "\n",
    "# Extract features for the entire test set\n",
    "payload_test = X_validation.values.tolist()\n",
    "\n",
    "# Make predictions using the deployed SageMaker endpoint\n",
    "prediction_scores_test = [float(score[0]) for score in predictor.predict(payload_test)]\n",
    "\n",
    "\n",
    "from sklearn.metrics import accuracy_score, classification_report, roc_auc_score, roc_curve\n",
    "\n",
    "# Evaluate accuracy\n",
    "accuracy = accuracy_score(y_validation, (np.array(prediction_scores_test) > 0.5).astype(int))\n",
    "print(f\"Accuracy: {accuracy:.4f}\")\n",
    "\n",
    "# Evaluate ROC-AUC score\n",
    "roc_auc = roc_auc_score(y_validation, prediction_scores_test)\n",
    "print(f\"ROC-AUC: {roc_auc:.4f}\")\n",
    "\n",
    "# Generate and plot ROC curve\n",
    "fpr, tpr, _ = roc_curve(y_validation, prediction_scores_test)\n",
    "plt.figure(figsize=(8, 8))\n",
    "plt.plot(fpr, tpr, label=f'ROC Curve (AUC = {roc_auc:.2f})')\n",
    "plt.plot([0, 1], [0, 1], 'k--')\n",
    "plt.xlabel('False Positive Rate')\n",
    "plt.ylabel('True Positive Rate')\n",
    "plt.title('Receiver Operating Characteristic (ROC) Curve')\n",
    "plt.legend()\n",
    "plt.show()\n",
    "\n",
    "# Display classification report\n",
    "print(\"Classification Report:\")\n",
    "print(classification_report(y_validation, (np.array(prediction_scores_test) > 0.5).astype(int)))"
   ]
  },
  {
   "cell_type": "code",
   "execution_count": 12,
   "id": "4be4ffb2-3e88-4a72-9be1-2b851bbccd19",
   "metadata": {
    "tags": []
   },
   "outputs": [
    {
     "data": {
      "image/png": "[encoded data removed]",
      "text/plain": [
       "<Figure size 800x800 with 1 Axes>"
      ]
     },
     "metadata": {},
     "output_type": "display_data"
    }
   ],
   "source": [
    "from sklearn.metrics import precision_recall_curve, auc\n",
    "\n",
    "# Calculate precision-recall curve\n",
    "precision, recall, _ = precision_recall_curve(y_validation, prediction_scores_test)\n",
    "pr_auc = auc(recall, precision)\n",
    "\n",
    "# Plot Precision-Recall curve\n",
    "plt.figure(figsize=(8, 8))\n",
    "plt.plot(recall, precision, label=f'Precision-Recall Curve (AUC = {pr_auc:.2f})')\n",
    "plt.xlabel('Recall')\n",
    "plt.ylabel('Precision')\n",
    "plt.title('Precision-Recall Curve')\n",
    "plt.legend()\n",
    "plt.show()\n"
   ]
  },
  {
   "cell_type": "code",
   "execution_count": 13,
   "id": "5bffc341-d9ff-4753-9ddd-9c59a303f862",
   "metadata": {
    "tags": []
   },
   "outputs": [
    {
     "data": {
      "image/png": "[encoded data removed]",
      "text/plain": [
       "<Figure size 800x600 with 1 Axes>"
      ]
     },
     "metadata": {},
     "output_type": "display_data"
    }
   ],
   "source": [
    "from sklearn.metrics import confusion_matrix\n",
    "import seaborn as sns\n",
    "\n",
    "# Generate confusion matrix\n",
    "cm = confusion_matrix(y_validation, (np.array(prediction_scores_test) > 0.5).astype(int))\n",
    "\n",
    "# Plot confusion matrix\n",
    "plt.figure(figsize=(8, 6))\n",
    "sns.heatmap(cm, annot=True, fmt='g', cmap='Blues', cbar=False, \n",
    "            xticklabels=['Predicted 0', 'Predicted 1'], \n",
    "            yticklabels=['Actual 0', 'Actual 1'])\n",
    "plt.xlabel('Predicted Label')\n",
    "plt.ylabel('True Label')\n",
    "plt.title('Confusion Matrix')\n",
    "plt.show()"
   ]
  },
  {
   "cell_type": "code",
   "execution_count": 14,
   "id": "0b2a02a7-8464-49ab-abca-acebe56af044",
   "metadata": {
    "tags": []
   },
   "outputs": [
    {
     "data": {
      "image/png": "[encoded data removed]",
      "text/plain": [
       "<Figure size 800x800 with 1 Axes>"
      ]
     },
     "metadata": {},
     "output_type": "display_data"
    }
   ],
   "source": [
    "from sklearn.calibration import calibration_curve\n",
    "\n",
    "# Generate calibration curve\n",
    "prob_true, prob_pred = calibration_curve(y_validation, prediction_scores_test, n_bins=10)\n",
    "\n",
    "# Plot calibration curve\n",
    "plt.figure(figsize=(8, 8))\n",
    "plt.plot(prob_pred, prob_true, marker='o', label='Calibration Curve')\n",
    "plt.plot([0, 1], [0, 1], linestyle='--', color='gray', label='Perfectly Calibrated')\n",
    "plt.xlabel('Mean Predicted Probability')\n",
    "plt.ylabel('Fraction of Positives')\n",
    "plt.title('Calibration Curve')\n",
    "plt.legend()\n",
    "plt.show()"
   ]
  },
  {
   "cell_type": "markdown",
   "id": "7b3b6f2b-6b82-4399-87d8-5aeebcf43a8a",
   "metadata": {},
   "source": [
    "## Continuous Improvement\n",
    "\n",
    "---\n",
    "\n",
    "Ensuring the ongoing success of our anomaly detection model requires a commitment to continuous improvement. Here are some strategies and considerations for monitoring and enhancing the model's performance:\n",
    "\n",
    "1. *Monitoring Metrics:* Regularly monitor key performance metrics such as accuracy, ROC-AUC, and other relevant evaluation metrics. Set up automated processes to trigger alerts if there is a significant deviation from expected performance.\n",
    "\n",
    "2. *Data Drift Detection:* Implement mechanisms to detect data drift, i.e., changes in the statistical properties of the input data. This may involve comparing the distribution of incoming data to the distribution of the training data.\n",
    "\n",
    "3. *Model Retraining:* Periodically retrain the model using updated data to adapt to evolving patterns in the dataset. Establish a retraining schedule based on the pace of data changes and the sensitivity of the application.\n",
    "\n",
    "4. *Feedback Mechanism:* If feasible, establish a feedback loop where human feedback or additional labeled data is used to continuously improve the model's understanding of anomalies.\n",
    "\n",
    "5. *Feature Engineering:* Explore new features or modify existing ones based on domain knowledge or insights gained from ongoing monitoring. Continuous refinement of features can enhance the model's ability to capture subtle patterns.\n",
    "\n",
    "6. *Integration with External Systems:* If applicable, integrate the anomaly detection model with external systems or workflows to enhance its usability and impact.\n",
    "\n",
    "7. *Documentation and Collaboration:* Maintain clear documentation of model changes, updates, and improvements. Foster collaboration among team members involved in monitoring and improvement efforts.\n",
    "\n",
    "8. *Model Versioning:* Implement a versioning system for the model to track changes over time. This ensures reproducibility and facilitates comparisons between different model iterations.\n",
    "\n",
    "By adopting these continuous improvement strategies, we aim to keep our anomaly detection model resilient and effective in the dynamic environment of predictive maintenance."
   ]
  },
  {
   "cell_type": "markdown",
   "id": "e1ff6bec-7697-4999-9bc7-927067ff233a",
   "metadata": {},
   "source": [
    "## End Note\n",
    "\n",
    "---\n",
    "In conclusion, the design and development of the anomaly detection model involved several key choices aimed at achieving optimal performance. The utilization of the XGBoost algorithm, with hyperparameter tuning through SageMaker, allowed for the creation of a robust and efficient model.\n",
    "\n",
    "### Design Choices:\n",
    "\n",
    "- *Algorithm Selection:* The XGBoost algorithm was chosen for its ability to handle complex datasets, provide excellent predictive performance, and handle imbalanced class distribution.\n",
    "\n",
    "- *Hyperparameter Tuning:* The model's hyperparameters were tuned using SageMaker's HyperparameterTuner to optimize performance metrics such as AUC. This ensured the model's ability to generalize well on unseen data.\n",
    "\n",
    "### Performance Evaluation:\n",
    "\n",
    "- *Model Metrics:*\n",
    "  - *Accuracy:* Achieving an accuracy of 99.59% highlights the model's proficiency in correctly classifying instances.\n",
    "  - *ROC-AUC:* With a ROC-AUC score of 0.9064, the model demonstrates good discriminative ability.\n",
    "\n",
    "### Future Directions:\n",
    "\n",
    "- *Continuous Improvement:* Ongoing model monitoring and improvements are crucial. Consider strategies for monitoring model drift, updating the model with new data, and exploring advanced techniques to enhance performance.\n",
    "\n",
    "- *Discussion of Future Work:* Explore avenues for expanding the model's capabilities, incorporating additional features, and adapting to evolving data patterns.\n",
    "\n",
    "This model lays the foundation for anomaly detection, and its successful deployment showcases its potential for real-world applications. As we look ahead, a commitment to continuous improvement will ensure the model's effectiveness in dynamic environments.\n",
    "\n"
   ]
  },
  {
   "cell_type": "markdown",
   "id": "45713a04-a670-45e9-94c1-07f9e62ad9a4",
   "metadata": {},
   "source": [
    "### Thank You"
   ]
  },
  {
   "cell_type": "markdown",
   "id": "492bff51-fb9c-4875-8f56-6c90f3dc19f5",
   "metadata": {},
   "source": [
    "#### karthik ag"
   ]
  }
 ],
 "metadata": {
  "availableInstances": [
   {
    "_defaultOrder": 0,
    "_isFastLaunch": true,
    "category": "General purpose",
    "gpuNum": 0,
    "hideHardwareSpecs": false,
    "memoryGiB": 4,
    "name": "ml.t3.medium",
    "vcpuNum": 2
   },
   {
    "_defaultOrder": 1,
    "_isFastLaunch": false,
    "category": "General purpose",
    "gpuNum": 0,
    "hideHardwareSpecs": false,
    "memoryGiB": 8,
    "name": "ml.t3.large",
    "vcpuNum": 2
   },
   {
    "_defaultOrder": 2,
    "_isFastLaunch": false,
    "category": "General purpose",
    "gpuNum": 0,
    "hideHardwareSpecs": false,
    "memoryGiB": 16,
    "name": "ml.t3.xlarge",
    "vcpuNum": 4
   },
   {
    "_defaultOrder": 3,
    "_isFastLaunch": false,
    "category": "General purpose",
    "gpuNum": 0,
    "hideHardwareSpecs": false,
    "memoryGiB": 32,
    "name": "ml.t3.2xlarge",
    "vcpuNum": 8
   },
   {
    "_defaultOrder": 4,
    "_isFastLaunch": true,
    "category": "General purpose",
    "gpuNum": 0,
    "hideHardwareSpecs": false,
    "memoryGiB": 8,
    "name": "ml.m5.large",
    "vcpuNum": 2
   },
   {
    "_defaultOrder": 5,
    "_isFastLaunch": false,
    "category": "General purpose",
    "gpuNum": 0,
    "hideHardwareSpecs": false,
    "memoryGiB": 16,
    "name": "ml.m5.xlarge",
    "vcpuNum": 4
   },
   {
    "_defaultOrder": 6,
    "_isFastLaunch": false,
    "category": "General purpose",
    "gpuNum": 0,
    "hideHardwareSpecs": false,
    "memoryGiB": 32,
    "name": "ml.m5.2xlarge",
    "vcpuNum": 8
   },
   {
    "_defaultOrder": 7,
    "_isFastLaunch": false,
    "category": "General purpose",
    "gpuNum": 0,
    "hideHardwareSpecs": false,
    "memoryGiB": 64,
    "name": "ml.m5.4xlarge",
    "vcpuNum": 16
   },
   {
    "_defaultOrder": 8,
    "_isFastLaunch": false,
    "category": "General purpose",
    "gpuNum": 0,
    "hideHardwareSpecs": false,
    "memoryGiB": 128,
    "name": "ml.m5.8xlarge",
    "vcpuNum": 32
   },
   {
    "_defaultOrder": 9,
    "_isFastLaunch": false,
    "category": "General purpose",
    "gpuNum": 0,
    "hideHardwareSpecs": false,
    "memoryGiB": 192,
    "name": "ml.m5.12xlarge",
    "vcpuNum": 48
   },
   {
    "_defaultOrder": 10,
    "_isFastLaunch": false,
    "category": "General purpose",
    "gpuNum": 0,
    "hideHardwareSpecs": false,
    "memoryGiB": 256,
    "name": "ml.m5.16xlarge",
    "vcpuNum": 64
   },
   {
    "_defaultOrder": 11,
    "_isFastLaunch": false,
    "category": "General purpose",
    "gpuNum": 0,
    "hideHardwareSpecs": false,
    "memoryGiB": 384,
    "name": "ml.m5.24xlarge",
    "vcpuNum": 96
   },
   {
    "_defaultOrder": 12,
    "_isFastLaunch": false,
    "category": "General purpose",
    "gpuNum": 0,
    "hideHardwareSpecs": false,
    "memoryGiB": 8,
    "name": "ml.m5d.large",
    "vcpuNum": 2
   },
   {
    "_defaultOrder": 13,
    "_isFastLaunch": false,
    "category": "General purpose",
    "gpuNum": 0,
    "hideHardwareSpecs": false,
    "memoryGiB": 16,
    "name": "ml.m5d.xlarge",
    "vcpuNum": 4
   },
   {
    "_defaultOrder": 14,
    "_isFastLaunch": false,
    "category": "General purpose",
    "gpuNum": 0,
    "hideHardwareSpecs": false,
    "memoryGiB": 32,
    "name": "ml.m5d.2xlarge",
    "vcpuNum": 8
   },
   {
    "_defaultOrder": 15,
    "_isFastLaunch": false,
    "category": "General purpose",
    "gpuNum": 0,
    "hideHardwareSpecs": false,
    "memoryGiB": 64,
    "name": "ml.m5d.4xlarge",
    "vcpuNum": 16
   },
   {
    "_defaultOrder": 16,
    "_isFastLaunch": false,
    "category": "General purpose",
    "gpuNum": 0,
    "hideHardwareSpecs": false,
    "memoryGiB": 128,
    "name": "ml.m5d.8xlarge",
    "vcpuNum": 32
   },
   {
    "_defaultOrder": 17,
    "_isFastLaunch": false,
    "category": "General purpose",
    "gpuNum": 0,
    "hideHardwareSpecs": false,
    "memoryGiB": 192,
    "name": "ml.m5d.12xlarge",
    "vcpuNum": 48
   },
   {
    "_defaultOrder": 18,
    "_isFastLaunch": false,
    "category": "General purpose",
    "gpuNum": 0,
    "hideHardwareSpecs": false,
    "memoryGiB": 256,
    "name": "ml.m5d.16xlarge",
    "vcpuNum": 64
   },
   {
    "_defaultOrder": 19,
    "_isFastLaunch": false,
    "category": "General purpose",
    "gpuNum": 0,
    "hideHardwareSpecs": false,
    "memoryGiB": 384,
    "name": "ml.m5d.24xlarge",
    "vcpuNum": 96
   },
   {
    "_defaultOrder": 20,
    "_isFastLaunch": false,
    "category": "General purpose",
    "gpuNum": 0,
    "hideHardwareSpecs": true,
    "memoryGiB": 0,
    "name": "ml.geospatial.interactive",
    "supportedImageNames": [
     "sagemaker-geospatial-v1-0"
    ],
    "vcpuNum": 0
   },
   {
    "_defaultOrder": 21,
    "_isFastLaunch": true,
    "category": "Compute optimized",
    "gpuNum": 0,
    "hideHardwareSpecs": false,
    "memoryGiB": 4,
    "name": "ml.c5.large",
    "vcpuNum": 2
   },
   {
    "_defaultOrder": 22,
    "_isFastLaunch": false,
    "category": "Compute optimized",
    "gpuNum": 0,
    "hideHardwareSpecs": false,
    "memoryGiB": 8,
    "name": "ml.c5.xlarge",
    "vcpuNum": 4
   },
   {
    "_defaultOrder": 23,
    "_isFastLaunch": false,
    "category": "Compute optimized",
    "gpuNum": 0,
    "hideHardwareSpecs": false,
    "memoryGiB": 16,
    "name": "ml.c5.2xlarge",
    "vcpuNum": 8
   },
   {
    "_defaultOrder": 24,
    "_isFastLaunch": false,
    "category": "Compute optimized",
    "gpuNum": 0,
    "hideHardwareSpecs": false,
    "memoryGiB": 32,
    "name": "ml.c5.4xlarge",
    "vcpuNum": 16
   },
   {
    "_defaultOrder": 25,
    "_isFastLaunch": false,
    "category": "Compute optimized",
    "gpuNum": 0,
    "hideHardwareSpecs": false,
    "memoryGiB": 72,
    "name": "ml.c5.9xlarge",
    "vcpuNum": 36
   },
   {
    "_defaultOrder": 26,
    "_isFastLaunch": false,
    "category": "Compute optimized",
    "gpuNum": 0,
    "hideHardwareSpecs": false,
    "memoryGiB": 96,
    "name": "ml.c5.12xlarge",
    "vcpuNum": 48
   },
   {
    "_defaultOrder": 27,
    "_isFastLaunch": false,
    "category": "Compute optimized",
    "gpuNum": 0,
    "hideHardwareSpecs": false,
    "memoryGiB": 144,
    "name": "ml.c5.18xlarge",
    "vcpuNum": 72
   },
   {
    "_defaultOrder": 28,
    "_isFastLaunch": false,
    "category": "Compute optimized",
    "gpuNum": 0,
    "hideHardwareSpecs": false,
    "memoryGiB": 192,
    "name": "ml.c5.24xlarge",
    "vcpuNum": 96
   },
   {
    "_defaultOrder": 29,
    "_isFastLaunch": true,
    "category": "Accelerated computing",
    "gpuNum": 1,
    "hideHardwareSpecs": false,
    "memoryGiB": 16,
    "name": "ml.g4dn.xlarge",
    "vcpuNum": 4
   },
   {
    "_defaultOrder": 30,
    "_isFastLaunch": false,
    "category": "Accelerated computing",
    "gpuNum": 1,
    "hideHardwareSpecs": false,
    "memoryGiB": 32,
    "name": "ml.g4dn.2xlarge",
    "vcpuNum": 8
   },
   {
    "_defaultOrder": 31,
    "_isFastLaunch": false,
    "category": "Accelerated computing",
    "gpuNum": 1,
    "hideHardwareSpecs": false,
    "memoryGiB": 64,
    "name": "ml.g4dn.4xlarge",
    "vcpuNum": 16
   },
   {
    "_defaultOrder": 32,
    "_isFastLaunch": false,
    "category": "Accelerated computing",
    "gpuNum": 1,
    "hideHardwareSpecs": false,
    "memoryGiB": 128,
    "name": "ml.g4dn.8xlarge",
    "vcpuNum": 32
   },
   {
    "_defaultOrder": 33,
    "_isFastLaunch": false,
    "category": "Accelerated computing",
    "gpuNum": 4,
    "hideHardwareSpecs": false,
    "memoryGiB": 192,
    "name": "ml.g4dn.12xlarge",
    "vcpuNum": 48
   },
   {
    "_defaultOrder": 34,
    "_isFastLaunch": false,
    "category": "Accelerated computing",
    "gpuNum": 1,
    "hideHardwareSpecs": false,
    "memoryGiB": 256,
    "name": "ml.g4dn.16xlarge",
    "vcpuNum": 64
   },
   {
    "_defaultOrder": 35,
    "_isFastLaunch": false,
    "category": "Accelerated computing",
    "gpuNum": 1,
    "hideHardwareSpecs": false,
    "memoryGiB": 61,
    "name": "ml.p3.2xlarge",
    "vcpuNum": 8
   },
   {
    "_defaultOrder": 36,
    "_isFastLaunch": false,
    "category": "Accelerated computing",
    "gpuNum": 4,
    "hideHardwareSpecs": false,
    "memoryGiB": 244,
    "name": "ml.p3.8xlarge",
    "vcpuNum": 32
   },
   {
    "_defaultOrder": 37,
    "_isFastLaunch": false,
    "category": "Accelerated computing",
    "gpuNum": 8,
    "hideHardwareSpecs": false,
    "memoryGiB": 488,
    "name": "ml.p3.16xlarge",
    "vcpuNum": 64
   },
   {
    "_defaultOrder": 38,
    "_isFastLaunch": false,
    "category": "Accelerated computing",
    "gpuNum": 8,
    "hideHardwareSpecs": false,
    "memoryGiB": 768,
    "name": "ml.p3dn.24xlarge",
    "vcpuNum": 96
   },
   {
    "_defaultOrder": 39,
    "_isFastLaunch": false,
    "category": "Memory Optimized",
    "gpuNum": 0,
    "hideHardwareSpecs": false,
    "memoryGiB": 16,
    "name": "ml.r5.large",
    "vcpuNum": 2
   },
   {
    "_defaultOrder": 40,
    "_isFastLaunch": false,
    "category": "Memory Optimized",
    "gpuNum": 0,
    "hideHardwareSpecs": false,
    "memoryGiB": 32,
    "name": "ml.r5.xlarge",
    "vcpuNum": 4
   },
   {
    "_defaultOrder": 41,
    "_isFastLaunch": false,
    "category": "Memory Optimized",
    "gpuNum": 0,
    "hideHardwareSpecs": false,
    "memoryGiB": 64,
    "name": "ml.r5.2xlarge",
    "vcpuNum": 8
   },
   {
    "_defaultOrder": 42,
    "_isFastLaunch": false,
    "category": "Memory Optimized",
    "gpuNum": 0,
    "hideHardwareSpecs": false,
    "memoryGiB": 128,
    "name": "ml.r5.4xlarge",
    "vcpuNum": 16
   },
   {
    "_defaultOrder": 43,
    "_isFastLaunch": false,
    "category": "Memory Optimized",
    "gpuNum": 0,
    "hideHardwareSpecs": false,
    "memoryGiB": 256,
    "name": "ml.r5.8xlarge",
    "vcpuNum": 32
   },
   {
    "_defaultOrder": 44,
    "_isFastLaunch": false,
    "category": "Memory Optimized",
    "gpuNum": 0,
    "hideHardwareSpecs": false,
    "memoryGiB": 384,
    "name": "ml.r5.12xlarge",
    "vcpuNum": 48
   },
   {
    "_defaultOrder": 45,
    "_isFastLaunch": false,
    "category": "Memory Optimized",
    "gpuNum": 0,
    "hideHardwareSpecs": false,
    "memoryGiB": 512,
    "name": "ml.r5.16xlarge",
    "vcpuNum": 64
   },
   {
    "_defaultOrder": 46,
    "_isFastLaunch": false,
    "category": "Memory Optimized",
    "gpuNum": 0,
    "hideHardwareSpecs": false,
    "memoryGiB": 768,
    "name": "ml.r5.24xlarge",
    "vcpuNum": 96
   },
   {
    "_defaultOrder": 47,
    "_isFastLaunch": false,
    "category": "Accelerated computing",
    "gpuNum": 1,
    "hideHardwareSpecs": false,
    "memoryGiB": 16,
    "name": "ml.g5.xlarge",
    "vcpuNum": 4
   },
   {
    "_defaultOrder": 48,
    "_isFastLaunch": false,
    "category": "Accelerated computing",
    "gpuNum": 1,
    "hideHardwareSpecs": false,
    "memoryGiB": 32,
    "name": "ml.g5.2xlarge",
    "vcpuNum": 8
   },
   {
    "_defaultOrder": 49,
    "_isFastLaunch": false,
    "category": "Accelerated computing",
    "gpuNum": 1,
    "hideHardwareSpecs": false,
    "memoryGiB": 64,
    "name": "ml.g5.4xlarge",
    "vcpuNum": 16
   },
   {
    "_defaultOrder": 50,
    "_isFastLaunch": false,
    "category": "Accelerated computing",
    "gpuNum": 1,
    "hideHardwareSpecs": false,
    "memoryGiB": 128,
    "name": "ml.g5.8xlarge",
    "vcpuNum": 32
   },
   {
    "_defaultOrder": 51,
    "_isFastLaunch": false,
    "category": "Accelerated computing",
    "gpuNum": 1,
    "hideHardwareSpecs": false,
    "memoryGiB": 256,
    "name": "ml.g5.16xlarge",
    "vcpuNum": 64
   },
   {
    "_defaultOrder": 52,
    "_isFastLaunch": false,
    "category": "Accelerated computing",
    "gpuNum": 4,
    "hideHardwareSpecs": false,
    "memoryGiB": 192,
    "name": "ml.g5.12xlarge",
    "vcpuNum": 48
   },
   {
    "_defaultOrder": 53,
    "_isFastLaunch": false,
    "category": "Accelerated computing",
    "gpuNum": 4,
    "hideHardwareSpecs": false,
    "memoryGiB": 384,
    "name": "ml.g5.24xlarge",
    "vcpuNum": 96
   },
   {
    "_defaultOrder": 54,
    "_isFastLaunch": false,
    "category": "Accelerated computing",
    "gpuNum": 8,
    "hideHardwareSpecs": false,
    "memoryGiB": 768,
    "name": "ml.g5.48xlarge",
    "vcpuNum": 192
   },
   {
    "_defaultOrder": 55,
    "_isFastLaunch": false,
    "category": "Accelerated computing",
    "gpuNum": 8,
    "hideHardwareSpecs": false,
    "memoryGiB": 1152,
    "name": "ml.p4d.24xlarge",
    "vcpuNum": 96
   },
   {
    "_defaultOrder": 56,
    "_isFastLaunch": false,
    "category": "Accelerated computing",
    "gpuNum": 8,
    "hideHardwareSpecs": false,
    "memoryGiB": 1152,
    "name": "ml.p4de.24xlarge",
    "vcpuNum": 96
   },
   {
    "_defaultOrder": 57,
    "_isFastLaunch": false,
    "category": "Accelerated computing",
    "gpuNum": 0,
    "hideHardwareSpecs": false,
    "memoryGiB": 32,
    "name": "ml.trn1.2xlarge",
    "vcpuNum": 8
   },
   {
    "_defaultOrder": 58,
    "_isFastLaunch": false,
    "category": "Accelerated computing",
    "gpuNum": 0,
    "hideHardwareSpecs": false,
    "memoryGiB": 512,
    "name": "ml.trn1.32xlarge",
    "vcpuNum": 128
   },
   {
    "_defaultOrder": 59,
    "_isFastLaunch": false,
    "category": "Accelerated computing",
    "gpuNum": 0,
    "hideHardwareSpecs": false,
    "memoryGiB": 512,
    "name": "ml.trn1n.32xlarge",
    "vcpuNum": 128
   }
  ],
  "instance_type": "ml.t3.medium",
  "kernelspec": {
   "display_name": "Python 3 (Data Science 3.0)",
   "language": "python",
   "name": "python3__SAGEMAKER_INTERNAL__arn:aws:sagemaker:ap-southeast-2:452832661640:image/sagemaker-data-science-310-v1"
  },
  "language_info": {
   "codemirror_mode": {
    "name": "ipython",
    "version": 3
   },
   "file_extension": ".py",
   "mimetype": "text/x-python",
   "name": "python",
   "nbconvert_exporter": "python",
   "pygments_lexer": "ipython3",
   "version": "3.10.6"
  }
 },
 "nbformat": 4,
 "nbformat_minor": 5
}
